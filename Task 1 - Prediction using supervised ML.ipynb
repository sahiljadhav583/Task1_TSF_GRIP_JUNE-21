{
 "cells": [
  {
   "cell_type": "markdown",
   "id": "current-champagne",
   "metadata": {},
   "source": [
    "# Prediction using Supervised ML\n",
    "\n",
    "## By: Sahil Sunil Jadhav\n",
    "### TSF GRIP June 2021-Task 1"
   ]
  },
  {
   "cell_type": "markdown",
   "id": "intelligent-reporter",
   "metadata": {},
   "source": [
    "## Simple Linear Regression Using Python Scikit Learn"
   ]
  },
  {
   "cell_type": "code",
   "execution_count": null,
   "id": "textile-sierra",
   "metadata": {},
   "outputs": [],
   "source": [
    "import pandas as pd\n",
    "import numpy as np  \n",
    "import matplotlib.pyplot as plt  \n",
    "%matplotlib inline"
   ]
  },
  {
   "cell_type": "markdown",
   "id": "hollywood-original",
   "metadata": {},
   "source": [
    "### Importing necessary data from remote link"
   ]
  },
  {
   "cell_type": "code",
   "execution_count": null,
   "id": "military-ancient",
   "metadata": {},
   "outputs": [],
   "source": [
    "url = \"http://bit.ly/w-data\"\n",
    "data_set = pd.read_csv(url)\n",
    "print(\"Data imported successfully\")\n",
    "\n",
    "data_set.head(25)"
   ]
  },
  {
   "cell_type": "markdown",
   "id": "generic-treat",
   "metadata": {},
   "source": [
    "### Plotting the Graph of Distribution of Scores"
   ]
  },
  {
   "cell_type": "code",
   "execution_count": null,
   "id": "structural-address",
   "metadata": {},
   "outputs": [],
   "source": [
    "data_set.plot(x='Hours', y='Scores', style='o')  \n",
    "plt.title('Hours vs Percentage')  \n",
    "plt.xlabel('Hours Studied')  \n",
    "plt.ylabel('Percentage Score')  \n",
    "plt.show()"
   ]
  },
  {
   "cell_type": "markdown",
   "id": "aware-coaching",
   "metadata": {},
   "source": [
    "### Dividing the data into Attributes and labels"
   ]
  },
  {
   "cell_type": "code",
   "execution_count": null,
   "id": "earlier-philosophy",
   "metadata": {},
   "outputs": [],
   "source": [
    "X = data_set.iloc[:, :-1].values  \n",
    "y = data_set.iloc[:, 1].values"
   ]
  },
  {
   "cell_type": "code",
   "execution_count": null,
   "id": "funny-investing",
   "metadata": {},
   "outputs": [],
   "source": [
    "from sklearn.model_selection import train_test_split  \n",
    "X_train, X_test, y_train, y_test = train_test_split(X, y, test_size=0.2, random_state=0)"
   ]
  },
  {
   "cell_type": "markdown",
   "id": "productive-defensive",
   "metadata": {},
   "source": [
    "### Training the Algorithm"
   ]
  },
  {
   "cell_type": "code",
   "execution_count": null,
   "id": "metric-dutch",
   "metadata": {},
   "outputs": [],
   "source": [
    "from sklearn.linear_model import LinearRegression  \n",
    "regressor = LinearRegression()  \n",
    "regressor.fit(X_train, y_train) \n",
    "\n",
    "print(\"Training completed...\")"
   ]
  },
  {
   "cell_type": "markdown",
   "id": "sapphire-workplace",
   "metadata": {},
   "source": [
    "### Implementation of Plotting the test data using previously trained test data"
   ]
  },
  {
   "cell_type": "code",
   "execution_count": null,
   "id": "present-utilization",
   "metadata": {},
   "outputs": [],
   "source": [
    "line = regressor.coef_*X+regressor.intercept_\n",
    "\n",
    "\n",
    "plt.scatter(X, y)\n",
    "plt.plot(X, line);\n",
    "plt.show()"
   ]
  },
  {
   "cell_type": "markdown",
   "id": "prostate-textbook",
   "metadata": {},
   "source": [
    "### Predicting the scores for model"
   ]
  },
  {
   "cell_type": "code",
   "execution_count": null,
   "id": "signal-wales",
   "metadata": {},
   "outputs": [],
   "source": [
    "print(X_test) \n",
    "y_pred = regressor.predict(X_test) "
   ]
  },
  {
   "cell_type": "markdown",
   "id": "juvenile-rotation",
   "metadata": {},
   "source": [
    "### Compairing the actual versus perdicted model"
   ]
  },
  {
   "cell_type": "code",
   "execution_count": null,
   "id": "practical-wright",
   "metadata": {},
   "outputs": [],
   "source": [
    "comp = pd.DataFrame({'Actual': y_test, 'Predicted': y_pred})  \n",
    "comp "
   ]
  },
  {
   "cell_type": "markdown",
   "id": "driven-chance",
   "metadata": {},
   "source": [
    "### Evaluating the model"
   ]
  },
  {
   "cell_type": "code",
   "execution_count": null,
   "id": "equipped-eagle",
   "metadata": {},
   "outputs": [],
   "source": [
    "from sklearn import metrics  \n",
    "print('Mean Absolute Error:', metrics.mean_absolute_error(y_test, y_pred)) "
   ]
  },
  {
   "cell_type": "markdown",
   "id": "assigned-recognition",
   "metadata": {},
   "source": [
    "### Testing the model\n",
    "#### Testing the model with sample testing hours. Here we take 9.25 hours i.e If the student studies for 9.25 hours how much percentage can he score based on the data we received and the model we applied."
   ]
  },
  {
   "cell_type": "code",
   "execution_count": null,
   "id": "classified-cooler",
   "metadata": {},
   "outputs": [],
   "source": [
    "hours = [[9.25]]\n",
    "own_pred = regressor.predict(hours)\n",
    "print(\"No of Hours = {}\".format(hours))\n",
    "print(\"Predicted Score = {}\".format(own_pred[0]))"
   ]
  }
 ],
 "metadata": {
  "kernelspec": {
   "display_name": "Python 3",
   "language": "python",
   "name": "python3"
  },
  "language_info": {
   "codemirror_mode": {
    "name": "ipython",
    "version": 3
   },
   "file_extension": ".py",
   "mimetype": "text/x-python",
   "name": "python",
   "nbconvert_exporter": "python",
   "pygments_lexer": "ipython3",
   "version": "3.6.13"
  }
 },
 "nbformat": 4,
 "nbformat_minor": 5
}
